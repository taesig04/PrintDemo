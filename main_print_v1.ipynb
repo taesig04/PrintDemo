{
 "cells": [
  {
   "cell_type": "markdown",
   "id": "80ea3c71",
   "metadata": {},
   "source": [
    "# Print 예제 입니다."
   ]
  },
  {
   "cell_type": "code",
   "execution_count": 2,
   "id": "97951202",
   "metadata": {},
   "outputs": [
    {
     "name": "stdout",
     "output_type": "stream",
     "text": [
      "Hello, Python!\n",
      "Name: Alice Age 25 score 95.5\n",
      "My name is Alice, I am 25 years old, score:95.5\n",
      "My name is Alice, I am 25 years old, score: 95.5\n",
      "Score with 2 decimals: 95.50\n",
      "This is line 1\n",
      "This is line 2\n",
      "Hello World!\n",
      "2025-09-23\n",
      "Data {'name': 'Alice', 'age': 25, 'score': 95.5}\n",
      "Next year age: 26\n",
      "Score (rounded): 96\n",
      "\n",
      "Student Info:\n",
      "- Name : Alice\n",
      "- Age : 25\n",
      "- Score: 95.50\n",
      "\n"
     ]
    }
   ],
   "source": [
    "name = \"Alice\"\n",
    "age = 25\n",
    "score = 95.5\n",
    "\n",
    "print(\"Hello, Python!\")\n",
    "\n",
    "print(\"Name:\", name, \"Age\", age, \"score\", score)\n",
    "\n",
    "print(f\"My name is {name}, I am {age} years old, score:{score}\")\n",
    "\n",
    "print(\"My name is {}, I am {} years old, score: {}\".format(name, age, score))\n",
    "print(\"Score with 2 decimals: {:.2f}\".format(score))\n",
    "print(\"This is line 1\\nThis is line 2\")\n",
    "\n",
    "print(\"Hello\", end=\" \")\n",
    "print(\"World!\")\n",
    "\n",
    "print(\"2025\", \"09\", \"23\", sep=\"-\")\n",
    "\n",
    "data = {\"name\": name, \"age\": age, \"score\": score}\n",
    "print(\"Data\", data)\n",
    "print(f\"Next year age: {age + 1}\")\n",
    "print(f\"Score (rounded): {round(score)}\")\n",
    "\n",
    "print(f\"\"\"\n",
    "Student Info:\n",
    "- Name : {name}\n",
    "- Age : {age}\n",
    "- Score: {score:.2f}\n",
    "\"\"\")"
   ]
  }
 ],
 "metadata": {
  "kernelspec": {
   "display_name": ".venv",
   "language": "python",
   "name": "python3"
  },
  "language_info": {
   "codemirror_mode": {
    "name": "ipython",
    "version": 3
   },
   "file_extension": ".py",
   "mimetype": "text/x-python",
   "name": "python",
   "nbconvert_exporter": "python",
   "pygments_lexer": "ipython3",
   "version": "3.13.7"
  }
 },
 "nbformat": 4,
 "nbformat_minor": 5
}
